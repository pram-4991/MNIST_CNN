{
 "cells": [
  {
   "cell_type": "code",
   "execution_count": 1,
   "metadata": {
    "colab": {
     "base_uri": "https://localhost:8080/",
     "height": 551
    },
    "colab_type": "code",
    "executionInfo": {
     "elapsed": 1970705,
     "status": "ok",
     "timestamp": 1524577821923,
     "user": {
      "displayName": "Applied AI Course",
      "photoUrl": "//lh3.googleusercontent.com/-EsJzSyawCkQ/AAAAAAAAAAI/AAAAAAAAAWk/jhKHALKaHag/s50-c-k-no/photo.jpg",
      "userId": "116292885805316472049"
     },
     "user_tz": -330
    },
    "id": "H9EU0e8yzFOm",
    "outputId": "b9a7331d-3a52-4991-f4a2-eaa64e288eb9"
   },
   "outputs": [
    {
     "name": "stderr",
     "output_type": "stream",
     "text": [
      "Using TensorFlow backend.\n"
     ]
    },
    {
     "name": "stdout",
     "output_type": "stream",
     "text": [
      "x_train shape: (60000, 28, 28, 1)\n",
      "60000 train samples\n",
      "10000 test samples\n"
     ]
    }
   ],
   "source": [
    "# Credits: https://github.com/keras-team/keras/blob/master/examples/mnist_cnn.py\n",
    "\n",
    "\n",
    "from __future__ import print_function\n",
    "import keras\n",
    "from keras.datasets import mnist\n",
    "from keras.models import Sequential\n",
    "from keras.layers import Dense, Dropout, Flatten\n",
    "from keras.layers import Conv2D, MaxPooling2D\n",
    "from keras import backend as K\n",
    "\n",
    "batch_size = 128\n",
    "num_classes = 10\n",
    "epochs = 12\n",
    "\n",
    "# input image dimensions\n",
    "img_rows, img_cols = 28, 28\n",
    "\n",
    "# the data, split between train and test sets\n",
    "(x_train, y_train), (x_test, y_test) = mnist.load_data()\n",
    "\n",
    "if K.image_data_format() == 'channels_first':\n",
    "    x_train = x_train.reshape(x_train.shape[0], 1, img_rows, img_cols)\n",
    "    x_test = x_test.reshape(x_test.shape[0], 1, img_rows, img_cols)\n",
    "    input_shape = (1, img_rows, img_cols)\n",
    "else:\n",
    "    x_train = x_train.reshape(x_train.shape[0], img_rows, img_cols, 1)\n",
    "    x_test = x_test.reshape(x_test.shape[0], img_rows, img_cols, 1)\n",
    "    input_shape = (img_rows, img_cols, 1)\n",
    "\n",
    "x_train = x_train.astype('float32')\n",
    "x_test = x_test.astype('float32')\n",
    "x_train /= 255\n",
    "x_test /= 255\n",
    "print('x_train shape:', x_train.shape)\n",
    "print(x_train.shape[0], 'train samples')\n",
    "print(x_test.shape[0], 'test samples')\n",
    "\n",
    "# convert class vectors to binary class matrices\n",
    "y_train = keras.utils.to_categorical(y_train, num_classes)\n",
    "y_test = keras.utils.to_categorical(y_test, num_classes)"
   ]
  },
  {
   "cell_type": "markdown",
   "metadata": {},
   "source": [
    "# Architecture 1:  Conlayers-2 \n",
    "# kernel size 3*3"
   ]
  },
  {
   "cell_type": "code",
   "execution_count": 2,
   "metadata": {
    "colab": {
     "base_uri": "https://localhost:8080/",
     "height": 551
    },
    "colab_type": "code",
    "executionInfo": {
     "elapsed": 1970705,
     "status": "ok",
     "timestamp": 1524577821923,
     "user": {
      "displayName": "Applied AI Course",
      "photoUrl": "//lh3.googleusercontent.com/-EsJzSyawCkQ/AAAAAAAAAAI/AAAAAAAAAWk/jhKHALKaHag/s50-c-k-no/photo.jpg",
      "userId": "116292885805316472049"
     },
     "user_tz": -330
    },
    "id": "H9EU0e8yzFOm",
    "outputId": "b9a7331d-3a52-4991-f4a2-eaa64e288eb9"
   },
   "outputs": [
    {
     "name": "stdout",
     "output_type": "stream",
     "text": [
      "WARNING:tensorflow:From C:\\Users\\Public\\Anaconda3\\lib\\site-packages\\tensorflow\\python\\framework\\op_def_library.py:263: colocate_with (from tensorflow.python.framework.ops) is deprecated and will be removed in a future version.\n",
      "Instructions for updating:\n",
      "Colocations handled automatically by placer.\n",
      "WARNING:tensorflow:From C:\\Users\\Public\\Anaconda3\\lib\\site-packages\\keras\\backend\\tensorflow_backend.py:3445: calling dropout (from tensorflow.python.ops.nn_ops) with keep_prob is deprecated and will be removed in a future version.\n",
      "Instructions for updating:\n",
      "Please use `rate` instead of `keep_prob`. Rate should be set to `rate = 1 - keep_prob`.\n",
      "WARNING:tensorflow:From C:\\Users\\Public\\Anaconda3\\lib\\site-packages\\tensorflow\\python\\ops\\math_ops.py:3066: to_int32 (from tensorflow.python.ops.math_ops) is deprecated and will be removed in a future version.\n",
      "Instructions for updating:\n",
      "Use tf.cast instead.\n",
      "Train on 60000 samples, validate on 10000 samples\n",
      "Epoch 1/12\n",
      "60000/60000 [==============================] - 93s 2ms/step - loss: 0.2580 - acc: 0.9219 - val_loss: 0.0524 - val_acc: 0.9831\n",
      "Epoch 2/12\n",
      "60000/60000 [==============================] - 98s 2ms/step - loss: 0.0852 - acc: 0.9745 - val_loss: 0.0391 - val_acc: 0.9864\n",
      "Epoch 3/12\n",
      "60000/60000 [==============================] - 95s 2ms/step - loss: 0.0649 - acc: 0.9812 - val_loss: 0.0346 - val_acc: 0.9882\n",
      "Epoch 4/12\n",
      "60000/60000 [==============================] - 92s 2ms/step - loss: 0.0548 - acc: 0.9838 - val_loss: 0.0304 - val_acc: 0.9905\n",
      "Epoch 5/12\n",
      "60000/60000 [==============================] - 89s 1ms/step - loss: 0.0463 - acc: 0.9860 - val_loss: 0.0308 - val_acc: 0.9893\n",
      "Epoch 6/12\n",
      "60000/60000 [==============================] - 88s 1ms/step - loss: 0.0421 - acc: 0.9871 - val_loss: 0.0275 - val_acc: 0.9896\n",
      "Epoch 7/12\n",
      "60000/60000 [==============================] - 89s 1ms/step - loss: 0.0388 - acc: 0.9886 - val_loss: 0.0276 - val_acc: 0.9904\n",
      "Epoch 8/12\n",
      "60000/60000 [==============================] - 88s 1ms/step - loss: 0.0342 - acc: 0.9899 - val_loss: 0.0297 - val_acc: 0.9907\n",
      "Epoch 9/12\n",
      "60000/60000 [==============================] - 89s 1ms/step - loss: 0.0312 - acc: 0.9908 - val_loss: 0.0254 - val_acc: 0.9915\n",
      "Epoch 10/12\n",
      "60000/60000 [==============================] - 91s 2ms/step - loss: 0.0295 - acc: 0.9907 - val_loss: 0.0320 - val_acc: 0.9896\n",
      "Epoch 11/12\n",
      "60000/60000 [==============================] - 91s 2ms/step - loss: 0.0266 - acc: 0.9918 - val_loss: 0.0276 - val_acc: 0.9914\n",
      "Epoch 12/12\n",
      "60000/60000 [==============================] - 92s 2ms/step - loss: 0.0258 - acc: 0.9918 - val_loss: 0.0293 - val_acc: 0.9917\n",
      "Test loss: 0.029326565258706888\n",
      "Test accuracy: 0.9917\n"
     ]
    }
   ],
   "source": [
    "model = Sequential()\n",
    "model.add(Conv2D(32, kernel_size=(3, 3),\n",
    "                 activation='relu',\n",
    "                 input_shape=input_shape))\n",
    "model.add(Conv2D(64, (3, 3), activation='relu'))\n",
    "model.add(MaxPooling2D(pool_size=(2, 2)))\n",
    "model.add(Dropout(0.25))\n",
    "model.add(Flatten())\n",
    "model.add(Dense(128, activation='relu'))\n",
    "model.add(Dropout(0.5))\n",
    "model.add(Dense(num_classes, activation='softmax'))\n",
    "\n",
    "model.compile(loss=keras.losses.categorical_crossentropy,\n",
    "              optimizer=keras.optimizers.Adadelta(),\n",
    "              metrics=['accuracy'])\n",
    "\n",
    "model.fit(x_train, y_train,\n",
    "          batch_size=batch_size,\n",
    "          epochs=epochs,\n",
    "          verbose=1,\n",
    "          validation_data=(x_test, y_test))\n",
    "score = model.evaluate(x_test, y_test, verbose=0)\n",
    "print('Test loss:', score[0])\n",
    "print('Test accuracy:', score[1])"
   ]
  },
  {
   "cell_type": "markdown",
   "metadata": {},
   "source": [
    "# Architecture2: kernel 3*3 Conlayers 3 "
   ]
  },
  {
   "cell_type": "code",
   "execution_count": 3,
   "metadata": {},
   "outputs": [
    {
     "name": "stdout",
     "output_type": "stream",
     "text": [
      "Train on 60000 samples, validate on 10000 samples\n",
      "Epoch 1/12\n",
      "60000/60000 [==============================] - 125s 2ms/step - loss: 0.2741 - acc: 0.9131 - val_loss: 0.0524 - val_acc: 0.9829\n",
      "Epoch 2/12\n",
      "60000/60000 [==============================] - 120s 2ms/step - loss: 0.0807 - acc: 0.9754 - val_loss: 0.0339 - val_acc: 0.9883\n",
      "Epoch 3/12\n",
      "60000/60000 [==============================] - 120s 2ms/step - loss: 0.0608 - acc: 0.9812 - val_loss: 0.0272 - val_acc: 0.9911\n",
      "Epoch 4/12\n",
      "60000/60000 [==============================] - 118s 2ms/step - loss: 0.0501 - acc: 0.9846 - val_loss: 0.0254 - val_acc: 0.9915\n",
      "Epoch 5/12\n",
      "60000/60000 [==============================] - 118s 2ms/step - loss: 0.0430 - acc: 0.9869 - val_loss: 0.0225 - val_acc: 0.9919\n",
      "Epoch 6/12\n",
      "60000/60000 [==============================] - 120s 2ms/step - loss: 0.0403 - acc: 0.9877 - val_loss: 0.0221 - val_acc: 0.9921\n",
      "Epoch 7/12\n",
      "60000/60000 [==============================] - 119s 2ms/step - loss: 0.0357 - acc: 0.9892 - val_loss: 0.0199 - val_acc: 0.9932\n",
      "Epoch 8/12\n",
      "60000/60000 [==============================] - 121s 2ms/step - loss: 0.0339 - acc: 0.9894 - val_loss: 0.0200 - val_acc: 0.9934\n",
      "Epoch 9/12\n",
      "60000/60000 [==============================] - 119s 2ms/step - loss: 0.0307 - acc: 0.9903 - val_loss: 0.0180 - val_acc: 0.9942\n",
      "Epoch 10/12\n",
      "60000/60000 [==============================] - 116s 2ms/step - loss: 0.0291 - acc: 0.9911 - val_loss: 0.0186 - val_acc: 0.9938\n",
      "Epoch 11/12\n",
      "60000/60000 [==============================] - 117s 2ms/step - loss: 0.0265 - acc: 0.9916 - val_loss: 0.0198 - val_acc: 0.9932\n",
      "Epoch 12/12\n",
      "60000/60000 [==============================] - 120s 2ms/step - loss: 0.0259 - acc: 0.9921 - val_loss: 0.0171 - val_acc: 0.9941\n",
      "Test loss: 0.017080856872715048\n",
      "Test accuracy: 0.9941\n"
     ]
    }
   ],
   "source": [
    "model = Sequential()\n",
    "model.add(Conv2D(32, kernel_size=(3, 3),\n",
    "                 activation='relu',\n",
    "                 input_shape=input_shape))\n",
    "model.add(Conv2D(64, (3, 3), activation='relu'))\n",
    "model.add(MaxPooling2D(pool_size=(2, 2)))\n",
    "model.add(Dropout(0.4))\n",
    "model.add(Conv2D(128, (3, 3), activation='relu'))\n",
    "model.add(MaxPooling2D(pool_size=(2, 2)))\n",
    "model.add(Dropout(0.4))\n",
    "model.add(Flatten())\n",
    "model.add(Dense(256, activation='relu'))\n",
    "model.add(Dropout(0.5))\n",
    "model.add(Dense(num_classes, activation='softmax'))\n",
    "\n",
    "model.compile(loss=keras.losses.categorical_crossentropy,\n",
    "              optimizer=keras.optimizers.Adadelta(),\n",
    "              metrics=['accuracy'])\n",
    "\n",
    "model.fit(x_train, y_train,\n",
    "          batch_size=batch_size,\n",
    "          epochs=epochs,\n",
    "          verbose=1,\n",
    "          validation_data=(x_test, y_test))\n",
    "score = model.evaluate(x_test, y_test, verbose=0)\n",
    "print('Test loss:', score[0])\n",
    "print('Test accuracy:', score[1])"
   ]
  },
  {
   "cell_type": "markdown",
   "metadata": {},
   "source": [
    " # Architecture3: kernel 3*3 Conlayers 3 droupout 0.25 and batch normalization"
   ]
  },
  {
   "cell_type": "code",
   "execution_count": 4,
   "metadata": {},
   "outputs": [
    {
     "name": "stdout",
     "output_type": "stream",
     "text": [
      "Train on 60000 samples, validate on 10000 samples\n",
      "Epoch 1/12\n",
      "60000/60000 [==============================] - 107s 2ms/step - loss: 0.2693 - acc: 0.9150 - val_loss: 0.0537 - val_acc: 0.9830\n",
      "Epoch 2/12\n",
      "60000/60000 [==============================] - 104s 2ms/step - loss: 0.0773 - acc: 0.9764 - val_loss: 0.0297 - val_acc: 0.9914\n",
      "Epoch 3/12\n",
      "60000/60000 [==============================] - 105s 2ms/step - loss: 0.0582 - acc: 0.9826 - val_loss: 0.0282 - val_acc: 0.9910\n",
      "Epoch 4/12\n",
      "60000/60000 [==============================] - 104s 2ms/step - loss: 0.0445 - acc: 0.9860 - val_loss: 0.0386 - val_acc: 0.9865\n",
      "Epoch 5/12\n",
      "60000/60000 [==============================] - 104s 2ms/step - loss: 0.0407 - acc: 0.9879 - val_loss: 0.0264 - val_acc: 0.9923\n",
      "Epoch 6/12\n",
      "60000/60000 [==============================] - 104s 2ms/step - loss: 0.0369 - acc: 0.9885 - val_loss: 0.0209 - val_acc: 0.9927\n",
      "Epoch 7/12\n",
      "60000/60000 [==============================] - 104s 2ms/step - loss: 0.0343 - acc: 0.9891 - val_loss: 0.0211 - val_acc: 0.9942\n",
      "Epoch 8/12\n",
      "60000/60000 [==============================] - 104s 2ms/step - loss: 0.0307 - acc: 0.9909 - val_loss: 0.0188 - val_acc: 0.9942\n",
      "Epoch 9/12\n",
      "60000/60000 [==============================] - 104s 2ms/step - loss: 0.0270 - acc: 0.9919 - val_loss: 0.0200 - val_acc: 0.9941\n",
      "Epoch 10/12\n",
      "60000/60000 [==============================] - 105s 2ms/step - loss: 0.0280 - acc: 0.9915 - val_loss: 0.0211 - val_acc: 0.9934\n",
      "Epoch 11/12\n",
      "60000/60000 [==============================] - 107s 2ms/step - loss: 0.0278 - acc: 0.9913 - val_loss: 0.0216 - val_acc: 0.9934\n",
      "Epoch 12/12\n",
      "60000/60000 [==============================] - 104s 2ms/step - loss: 0.0240 - acc: 0.9927 - val_loss: 0.0199 - val_acc: 0.9941\n",
      "Test loss: 0.01993270480447845\n",
      "Test accuracy: 0.9941\n"
     ]
    }
   ],
   "source": [
    "from keras.layers.normalization import BatchNormalization\n",
    "\n",
    "\n",
    "model = Sequential()\n",
    "model.add(Conv2D(32, kernel_size=(3, 3),\n",
    "                 activation='relu',\n",
    "                 input_shape=input_shape))\n",
    "model.add(Conv2D(64, (3, 3), activation='relu'))\n",
    "model.add(MaxPooling2D(pool_size=(3, 3)))\n",
    "model.add(Dropout(0.25))\n",
    "model.add(BatchNormalization())\n",
    "\n",
    "model.add(Conv2D(128, (3, 3), activation='relu'))\n",
    "model.add(MaxPooling2D(pool_size=(3, 3)))\n",
    "model.add(Dropout(0.25))\n",
    "model.add(BatchNormalization())\n",
    "\n",
    "model.add(Flatten())\n",
    "model.add(Dense(256, activation='relu'))\n",
    "model.add(Dropout(0.5))\n",
    "model.add(Dense(num_classes, activation='softmax'))\n",
    "\n",
    "model.compile(loss=keras.losses.categorical_crossentropy,\n",
    "              optimizer=keras.optimizers.Adadelta(),\n",
    "              metrics=['accuracy'])\n",
    "\n",
    "model.fit(x_train, y_train,\n",
    "          batch_size=batch_size,\n",
    "          epochs=epochs,\n",
    "          verbose=1,\n",
    "          validation_data=(x_test, y_test))\n",
    "score = model.evaluate(x_test, y_test, verbose=0)\n",
    "print('Test loss:', score[0])\n",
    "print('Test accuracy:', score[1])"
   ]
  },
  {
   "cell_type": "markdown",
   "metadata": {},
   "source": [
    "# Architecture 4: kernel 5*5 Conlayers 5 batch normalization"
   ]
  },
  {
   "cell_type": "code",
   "execution_count": 14,
   "metadata": {},
   "outputs": [
    {
     "name": "stdout",
     "output_type": "stream",
     "text": [
      "WARNING:tensorflow:From C:\\Users\\Public\\Anaconda3\\lib\\site-packages\\tensorflow\\python\\ops\\math_ops.py:3066: to_int32 (from tensorflow.python.ops.math_ops) is deprecated and will be removed in a future version.\n",
      "Instructions for updating:\n",
      "Use tf.cast instead.\n",
      "Train on 60000 samples, validate on 10000 samples\n",
      "Epoch 1/12\n",
      "60000/60000 [==============================] - 735s 12ms/step - loss: 0.4790 - acc: 0.9320 - val_loss: 0.0606 - val_acc: 0.9864\n",
      "Epoch 2/12\n",
      "60000/60000 [==============================] - 733s 12ms/step - loss: 0.0751 - acc: 0.9815 - val_loss: 0.1089 - val_acc: 0.9766\n",
      "Epoch 3/12\n",
      "60000/60000 [==============================] - 703s 12ms/step - loss: 0.0545 - acc: 0.9867 - val_loss: 0.0681 - val_acc: 0.9850\n",
      "Epoch 4/12\n",
      "60000/60000 [==============================] - 706s 12ms/step - loss: 0.0432 - acc: 0.9892 - val_loss: 0.0295 - val_acc: 0.9933\n",
      "Epoch 5/12\n",
      "60000/60000 [==============================] - 725s 12ms/step - loss: 0.0348 - acc: 0.9908 - val_loss: 0.0304 - val_acc: 0.9938\n",
      "Epoch 6/12\n",
      "60000/60000 [==============================] - 720s 12ms/step - loss: 0.0299 - acc: 0.9924 - val_loss: 0.0428 - val_acc: 0.9900\n",
      "Epoch 7/12\n",
      "60000/60000 [==============================] - 724s 12ms/step - loss: 0.0265 - acc: 0.9928 - val_loss: 0.0239 - val_acc: 0.9949\n",
      "Epoch 8/12\n",
      "60000/60000 [==============================] - 765s 13ms/step - loss: 0.0251 - acc: 0.9934 - val_loss: 0.0256 - val_acc: 0.9948\n",
      "Epoch 9/12\n",
      "60000/60000 [==============================] - 763s 13ms/step - loss: 0.0201 - acc: 0.9948 - val_loss: 0.0315 - val_acc: 0.9939\n",
      "Epoch 10/12\n",
      "60000/60000 [==============================] - 761s 13ms/step - loss: 0.0193 - acc: 0.9951 - val_loss: 0.0244 - val_acc: 0.9948\n",
      "Epoch 11/12\n",
      "60000/60000 [==============================] - 768s 13ms/step - loss: 0.0173 - acc: 0.9961 - val_loss: 0.0265 - val_acc: 0.9950\n",
      "Epoch 12/12\n",
      "60000/60000 [==============================] - 769s 13ms/step - loss: 0.0162 - acc: 0.9961 - val_loss: 0.0284 - val_acc: 0.9954\n",
      "Test loss: 0.02835287011177452\n",
      "Test accuracy: 0.9954\n"
     ]
    }
   ],
   "source": [
    "from keras.layers.normalization import BatchNormalization\n",
    "\n",
    "\n",
    "model = Sequential()\n",
    "model.add(Conv2D(16, kernel_size=(5, 5),\n",
    "                 activation='relu',\n",
    "                 input_shape=input_shape))\n",
    "\n",
    "model.add(Conv2D(32, (5, 5), padding='same',strides=1,activation='relu'))\n",
    "model.add(MaxPooling2D(pool_size=(2, 2),strides=None, padding='same', data_format=None))\n",
    "model.add(BatchNormalization())\n",
    "\n",
    "model.add(Conv2D(64, (5, 5), padding='same',activation='relu'))\n",
    "model.add(MaxPooling2D(pool_size=(2, 2),strides=1, padding='same', data_format=None))\n",
    "model.add(Dropout(0.25))\n",
    "model.add(BatchNormalization())\n",
    "\n",
    "model.add(Conv2D(128, (5, 5),padding='same',strides=1, activation='relu'))\n",
    "model.add(MaxPooling2D(pool_size=(2, 2),strides=1, padding='same', data_format=None))\n",
    "model.add(Dropout(0.25))\n",
    "model.add(BatchNormalization())\n",
    "\n",
    "model.add(Conv2D(256, (5, 5),activation='relu'))\n",
    "model.add(Dropout(0.4))\n",
    "model.add(BatchNormalization())\n",
    "\n",
    "model.add(Flatten())\n",
    "model.add(Dense(512, activation='relu'))\n",
    "model.add(Dropout(0.5))\n",
    "model.add(Dense(num_classes, activation='softmax'))\n",
    "\n",
    "model.compile(loss=keras.losses.categorical_crossentropy,\n",
    "              optimizer=keras.optimizers.Adadelta(),\n",
    "              metrics=['accuracy'])\n",
    "\n",
    "model.fit(x_train, y_train,\n",
    "          batch_size=batch_size,\n",
    "          epochs=epochs,\n",
    "          verbose=1,\n",
    "          validation_data=(x_test, y_test))\n",
    "score = model.evaluate(x_test, y_test, verbose=0)\n",
    "print('Test loss:', score[0])\n",
    "print('Test accuracy:', score[1])"
   ]
  },
  {
   "cell_type": "code",
   "execution_count": 4,
   "metadata": {},
   "outputs": [
    {
     "data": {
      "image/png": "[encoded data removed]",
      "text/plain": [
       "<Figure size 432x288 with 1 Axes>"
      ]
     },
     "metadata": {
      "needs_background": "light"
     },
     "output_type": "display_data"
    }
   ],
   "source": [
    "#plotting error plots for all the models\n",
    "\n",
    "values =[1,2,3,4]\n",
    "train_results=[0.9918,0.9921,0.9927,0.9961]\n",
    "test_results=[0.9917,0.9941,0.9941,0.9954]\n",
    "\n",
    "import matplotlib.pyplot as plt\n",
    "from matplotlib.legend_handler import HandlerLine2D\n",
    "line1, = plt.plot(values, train_results, 'b', label=\"Train Accuracy\")\n",
    "line2, = plt.plot(values, test_results, 'r', label=\"Test Accuracy\")\n",
    "\n",
    "plt.legend(handler_map={line1: HandlerLine2D(numpoints=2)})\n",
    "plt.ylabel(\"accuracy\")\n",
    "plt.xlabel(\"architecture\")\n",
    "plt.show()"
   ]
  },
  {
   "cell_type": "markdown",
   "metadata": {},
   "source": [
    "#1.we can observe that for architecture 3 we get best results even model 2 give good results but among them model 3 is best .\n",
    "2.For model 4 and model 1, we could observe that test accuracy is more train accuracy which indicates the accuracy for unseen data is more than the train data which is not common."
   ]
  },
  {
   "cell_type": "markdown",
   "metadata": {},
   "source": [
    "# conclusions\n"
   ]
  },
  {
   "cell_type": "code",
   "execution_count": 1,
   "metadata": {},
   "outputs": [
    {
     "name": "stdout",
     "output_type": "stream",
     "text": [
      "+--------------------+--------------------+-------------+----------------+----------------+---------------+\n",
      "| CNN- architecture  | convulution layers | kernel size | Regularization | Train accuracy | Test Accuracy |\n",
      "+--------------------+--------------------+-------------+----------------+----------------+---------------+\n",
      "|   Architecture 1   |         2          |     3*3     |    Droupout    |     0.9918     |     0.9917    |\n",
      "|   Architecture 2   |         3          |     3*3     |    Droupout    |     0.9921     |     0.9941    |\n",
      "|   Architecture 3   |         3          |     3*3     |     Batch      |     0.9927     |     0.9941    |\n",
      "|   Architecture 4   |         5          |     5*5     | Droupout+batch |     0.9961     |     0.9954    |\n",
      "+--------------------+--------------------+-------------+----------------+----------------+---------------+\n"
     ]
    }
   ],
   "source": [
    "\n",
    "from prettytable import PrettyTable\n",
    "\n",
    "#If you get a ModuleNotFoundError error , install prettytable using: pip3 install prettytable\n",
    "\n",
    "x = PrettyTable()\n",
    "x.field_names = [\"CNN- architecture \", \"convulution layers\", \"kernel size\",  \"Regularization\", \"Train accuracy\", \"Test Accuracy\"]\n",
    "\n",
    "x.add_row([\"Architecture 1\", 2, \"3*3\", \"Droupout\", 0.9918, 0.9917])\n",
    "x.add_row([\"Architecture 2\", 3, \"3*3\", \"Droupout\", 0.9921, 0.9941])\n",
    "x.add_row([\"Architecture 3\", 3, \"3*3\", \"Batch\", 0.9927, 0.9941])\n",
    "x.add_row([\"Architecture 4\", 5, \"5*5\", \"Droupout+batch\",0.9961 ,0.9954 ])\n",
    "\n",
    "\n",
    "print(x)"
   ]
  },
  {
   "cell_type": "code",
   "execution_count": null,
   "metadata": {},
   "outputs": [],
   "source": [
    "#We could observe with increase in kernel size as performance is increasing but it is taking longer time to execute "
   ]
  }
 ],
 "metadata": {
  "colab": {
   "collapsed_sections": [],
   "name": "CNN_MNIST.ipynb",
   "provenance": [],
   "version": "0.3.2"
  },
  "kernelspec": {
   "display_name": "Python 3",
   "language": "python",
   "name": "python3"
  },
  "language_info": {
   "codemirror_mode": {
    "name": "ipython",
    "version": 3
   },
   "file_extension": ".py",
   "mimetype": "text/x-python",
   "name": "python",
   "nbconvert_exporter": "python",
   "pygments_lexer": "ipython3",
   "version": "3.7.3"
  }
 },
 "nbformat": 4,
 "nbformat_minor": 1
}
